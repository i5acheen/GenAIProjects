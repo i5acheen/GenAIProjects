from moviepy.editor import VideoFileClip
import whisper
import os

class VideoTranscriber:
    def __init__(self, model_size: str = 'base'):
        self.model = whisper.load_model(model_size)

    def transcribe_video(self, video_path: str, output_dir: str = 'transcriptions'):
        os.makedirs(output_dir, exist_ok=True)
        print(f"Processing video: {video_path}...")

        # Extract audio from video
        video = VideoFileClip(video_path)
        audio_path = os.path.splitext(video_path)[0] + ".wav"
        video.audio.write_audiofile(audio_path)

        # Transcribe the extracted audio
        result = self.model.transcribe(audio_path)
        print("Transcription completed.")

        # Save transcription
        base_name = os.path.splitext(os.path.basename(video_path))[0]
        text_file = os.path.join(output_dir, f"{base_name}_transcript.txt")
        with open(text_file, 'w', encoding='utf-8') as f:
            f.write(result["text"])
        print(f"Transcription saved to: {text_file}")
        return result

def main():
    video_path = r"C:\Users\sachinza\Downloads\WMS Testing Handover-20240625_154217-Meeting Recording.mp4"
    transcriber = VideoTranscriber(model_size='base')
    transcriber.transcribe_video(video_path)

if __name__ == "__main__":
    main()
